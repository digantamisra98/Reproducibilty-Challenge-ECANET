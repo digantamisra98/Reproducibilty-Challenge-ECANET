{
 "cells": [
  {
   "cell_type": "code",
   "execution_count": null,
   "metadata": {},
   "outputs": [],
   "source": [
    "## Import Necessary packages\n",
    "from mmdet.apis import init_detector, inference_detector, show_result_pyplot\n",
    "import mmcv\n",
    "import wandb\n",
    "import re\n",
    "import os"
   ]
  },
  {
   "cell_type": "code",
   "execution_count": null,
   "metadata": {},
   "outputs": [],
   "source": [
    "w = os.listdir(\"../work_dirs/mask_rcnn_r50_fpn_1x_coco\")"
   ]
  },
  {
   "cell_type": "code",
   "execution_count": null,
   "metadata": {},
   "outputs": [],
   "source": [
    "checkpts = []\n",
    "for i in w:\n",
    "    if i.endswith(\".pth\"):\n",
    "        checkpts.append(i)"
   ]
  },
  {
   "cell_type": "code",
   "execution_count": null,
   "metadata": {},
   "outputs": [],
   "source": [
    "def atoi(text):\n",
    "    return int(text) if text.isdigit() else text\n",
    "def natural_keys(text):\n",
    "    '''\n",
    "    alist.sort(key=natural_keys) sorts in human order\n",
    "    http://nedbatchelder.com/blog/200712/human_sorting.html\n",
    "    (See Toothy's implementation in the comments)\n",
    "    '''\n",
    "    return [ atoi(c) for c in re.split(r'(\\d+)', text) ]"
   ]
  },
  {
   "cell_type": "code",
   "execution_count": null,
   "metadata": {},
   "outputs": [],
   "source": [
    "checkpts.sort(key=natural_keys)"
   ]
  },
  {
   "cell_type": "code",
   "execution_count": null,
   "metadata": {},
   "outputs": [],
   "source": [
    "del(checkpts[-1])"
   ]
  },
  {
   "cell_type": "code",
   "execution_count": null,
   "metadata": {},
   "outputs": [],
   "source": [
    "img_list = os.listdir(\"../data/coco/test2017\")[:5]"
   ]
  },
  {
   "source": [
    "## Note:\n",
    "In `mmdetection/mmdet/apis/inference.py`, update the ```show_result_pyplot``` function by simply including: ```return mmcv.bgr2rgb(img)``` at the end of the function to allow **WandB** logging.\n"
   ],
   "cell_type": "markdown",
   "metadata": {}
  },
  {
   "cell_type": "code",
   "execution_count": null,
   "metadata": {},
   "outputs": [],
   "source": [
    "\n",
    "config_file = '../configs/mask_rcnn/mask_rcnn_r50_fpn_1x_coco.py'\n",
    "wandb.init(project = 'ECANet-sweep')\n",
    "for checkpoints in checkpts:\n",
    "    log_img = []\n",
    "    model = init_detector(config_file, '../work_dirs/mask_rcnn_r50_fpn_1x_coco/'+checkpoints, device='cuda:0')\n",
    "    for i in img_list:\n",
    "        img = '../data/coco/test2017/'+i\n",
    "        result = inference_detector(model, img)\n",
    "        x = show_result_pyplot(model, img, result)\n",
    "        log_img.append(wandb.Image(x))\n",
    "    wandb.log({\"Segmentation and BBox Results\": log_img})\n",
    "        \n",
    "wandb.run.finish()"
   ]
  }
 ],
 "metadata": {
  "environment": {
   "name": "pytorch-gpu.1-6.m59",
   "type": "gcloud",
   "uri": "gcr.io/deeplearning-platform-release/pytorch-gpu.1-6:m59"
  },
  "kernelspec": {
   "display_name": "Python 3",
   "language": "python",
   "name": "python3"
  },
  "language_info": {
   "codemirror_mode": {
    "name": "ipython",
    "version": 3
   },
   "file_extension": ".py",
   "mimetype": "text/x-python",
   "name": "python",
   "nbconvert_exporter": "python",
   "pygments_lexer": "ipython3",
   "version": "3.7.8"
  },
  "pycharm": {
   "stem_cell": {
    "cell_type": "raw",
    "metadata": {
     "collapsed": false
    },
    "source": []
   }
  }
 },
 "nbformat": 4,
 "nbformat_minor": 4
}
