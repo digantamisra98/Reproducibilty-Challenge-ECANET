{
  "nbformat": 4,
  "nbformat_minor": 0,
  "metadata": {
    "colab": {
      "name": "ECA_Comp.ipynb",
      "private_outputs": true,
      "provenance": [],
      "collapsed_sections": []
    },
    "kernelspec": {
      "name": "python3",
      "display_name": "Python 3"
    },
    "accelerator": "GPU"
  },
  "cells": [
    {
      "cell_type": "code",
      "metadata": {
        "id": "9bUreYEMN0FF"
      },
      "source": [
        "!pip install wandb\n",
        "!pip install ptflops\n",
        "# EchoAI\n",
        "!git clone https://github.com/digantamisra98/Echo.git"
      ],
      "execution_count": null,
      "outputs": []
    },
    {
      "cell_type": "code",
      "metadata": {
        "id": "wZW2jEBAMRMN"
      },
      "source": [
        "import os\n",
        "os.chdir(\"/content/Echo\")"
      ],
      "execution_count": null,
      "outputs": []
    },
    {
      "cell_type": "code",
      "metadata": {
        "id": "kRdQHrDWB6JT"
      },
      "source": [
        "!git clone https://github.com/digantamisra98/ECANet.git"
      ],
      "execution_count": null,
      "outputs": []
    },
    {
      "cell_type": "code",
      "metadata": {
        "id": "IT2eUlO4C5g2"
      },
      "source": [
        "!pip install -e \"/content/Echo/\""
      ],
      "execution_count": null,
      "outputs": []
    },
    {
      "cell_type": "code",
      "metadata": {
        "id": "Q-jdZXjkM9gx"
      },
      "source": [
        "%cd ECANet"
      ],
      "execution_count": null,
      "outputs": []
    },
    {
      "cell_type": "code",
      "metadata": {
        "id": "XEtwe68aNBQz"
      },
      "source": [
        "for i in range(0,5):\n",
        "  !python train_cifar.py 1 ECA18 ECACIFAR 50"
      ],
      "execution_count": null,
      "outputs": []
    },
    {
      "cell_type": "code",
      "metadata": {
        "id": "-4vsOzk7NOsy"
      },
      "source": [],
      "execution_count": null,
      "outputs": []
    }
  ]
}