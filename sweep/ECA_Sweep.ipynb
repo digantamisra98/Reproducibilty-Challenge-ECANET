{
  "nbformat": 4,
  "nbformat_minor": 0,
  "metadata": {
    "colab": {
      "name": "Mish_test.ipynb",
      "provenance": []
    },
    "kernelspec": {
      "name": "python3",
      "display_name": "Python 3"
    },
    "accelerator": "GPU"
  },
  "cells": [
    {
      "cell_type": "code",
      "metadata": {
        "id": "9bUreYEMN0FF"
      },
      "source": [
        "!pip install wandb\n",
        "!pip install ptflops\n",
        "# EchoAI\n",
        "!git clone https://github.com/digantamisra98/Echo.git\n",
        "!pip install -e <path_directory_to_echo>"
      ],
      "execution_count": null,
      "outputs": []
    },
    {
      "cell_type": "code",
      "metadata": {
        "id": "wZW2jEBAMRMN"
      },
      "source": [
        "import os\n",
        "os.chdir(<path_directory_to_echo>)\n",
        "!git clone https://github.com/digantamisra98/ECANet.git\n",
        "os.chdir(<path_to_sweep>)"
      ],
      "execution_count": null,
      "outputs": []
    },
    {
      "cell_type": "code",
      "metadata": {
        "id": "vN-y02QUNW7e"
      },
      "source": [
        "!wandb login"
      ],
      "execution_count": null,
      "outputs": []
    },
    {
      "cell_type": "code",
      "metadata": {
        "id": "RZ_cxnL9QBA6"
      },
      "source": [
        "!wandb sweep sweep.yaml"
      ],
      "execution_count": null,
      "outputs": []
    },
    {
      "cell_type": "code",
      "metadata": {
        "collapsed": true,
        "id": "FyBqqaBHQdDJ"
      },
      "source": [
        "#!wandb agent {insert sweep ID printed in the above cell's output}"
      ],
      "execution_count": null,
      "outputs": []
    }
  ]
}